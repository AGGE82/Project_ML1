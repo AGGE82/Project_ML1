{
 "cells": [
  {
   "cell_type": "markdown",
   "id": "894feb5b",
   "metadata": {},
   "source": [
    "# Final Project Machine Learning\n",
    "\n",
    "## Juan David Sanchez & Alejandro Gil\n",
    "\n",
    "### Enfasís en Análitica Aplicada\n"
   ]
  },
  {
   "cell_type": "code",
   "execution_count": 2,
   "id": "146d1b11",
   "metadata": {},
   "outputs": [],
   "source": [
    "import pandas as pd\n",
    "import numpy as np\n",
    "import matplotlib.pyplot as plt\n",
    "import seaborn as sns\n",
    "import time\n",
    "from pathlib import Path\n",
    "from typing import Callable\n",
    "from functools import wraps\n",
    "from sklearn.model_selection import train_test_split\n",
    "from sklearn.preprocessing import StandardScaler\n",
    "from sklearn.tree import DecisionTreeClassifier\n",
    "from sklearn.ensemble import RandomForestClassifier\n",
    "from sklearn.svm import SVC\n",
    "from sklearn.neighbors import KNeighborsClassifier\n",
    "from sklearn.linear_model import LogisticRegression\n",
    "from prefect import flow, task, get_run_logger\n",
    "from sklearn import metrics \n",
    "from sklearn.metrics import accuracy_score, ConfusionMatrixDisplay\n",
    "from sklearn.metrics import classification_report\n",
    "from sklearn.model_selection import cross_val_score\n"
   ]
  },
  {
   "cell_type": "code",
   "execution_count": 3,
   "id": "1f764561",
   "metadata": {},
   "outputs": [],
   "source": [
    "def timing_decorator(func: Callable) -> Callable:\n",
    "    '''Custom decorator to time task execution'''\n",
    "    @wraps(func)\n",
    "    def wrapper(*args, **kwargs):\n",
    "        logger = get_run_logger()\n",
    "        start_time = time.time()\n",
    "\n",
    "        # Execute the original function\n",
    "        result = func(*args, **kwargs)\n",
    "\n",
    "        end_time = time.time()\n",
    "        execution_time = end_time - start_time\n",
    "\n",
    "        logger.info(f\"Task '{func.__name__}' completed in {execution_time:.2f} seconds\")\n",
    "        return result\n",
    "\n",
    "    return wrapper"
   ]
  },
  {
   "cell_type": "code",
   "execution_count": 10,
   "id": "a25b6662",
   "metadata": {},
   "outputs": [],
   "source": [
    "@task\n",
    "@timing_decorator\n",
    "def load_data() -> pd.DataFrame:\n",
    "    df = pd.read_csv('dataset_small.csv')\n",
    "    df.head(5)\n",
    "    return df"
   ]
  },
  {
   "cell_type": "code",
   "execution_count": 28,
   "id": "d1924179",
   "metadata": {},
   "outputs": [],
   "source": [
    "@task\n",
    "@timing_decorator\n",
    "def distribution_plotter(df):\n",
    "    print(\"Class Distribution:\")\n",
    "    class_dist = df['phishing'].value_counts()\n",
    "    ax = class_dist.plot(kind='bar')\n",
    "    plt.title('Class distribution')\n",
    "    plt.xlabel('Class')\n",
    "    plt.ylabel('Count')\n",
    "    for i in ax.containers:\n",
    "        ax.bar_label(i, label_type='edge', padding=1.5, fontsize=10, color='black')\n",
    "    plt.show()\n",
    "\n",
    "    print(\"\\nPercentage Distribution:\")\n",
    "    perc_dist = df['phishing'].value_counts(normalize=True) * 100\n",
    "    perc_dist.plot(\n",
    "            kind='pie',\n",
    "            autopct='%1.1f%%',  \n",
    "            startangle=90,        \n",
    "            shadow=True,         \n",
    "            colormap='tab20'      \n",
    "        )\n",
    "    plt.title('Percentage distribution')\n",
    "    plt.ylabel('Count')  \n",
    "    plt.show()"
   ]
  },
  {
   "cell_type": "code",
   "execution_count": 25,
   "id": "ef7fa749",
   "metadata": {},
   "outputs": [],
   "source": [
    "@task\n",
    "@timing_decorator\n",
    "def descriptor(df):\n",
    "    print(f\"Total missing values: {df.isnull().sum().sum()}\")\n",
    "    print(f\"Duplicate: {df.duplicated().sum()}\\n\")\n",
    "    print(df.describe().T)\n"
   ]
  },
  {
   "cell_type": "markdown",
   "id": "4b015f5e",
   "metadata": {},
   "source": [
    "#### Correlation"
   ]
  },
  {
   "cell_type": "code",
   "execution_count": 26,
   "id": "c7317973",
   "metadata": {},
   "outputs": [],
   "source": [
    "@task\n",
    "@timing_decorator\n",
    "def correlation(df):\n",
    "    correlation = df.corr()['phishing'].sort_values(ascending=False)\n",
    "\n",
    "    top_corr = correlation[1:16]\n",
    "    print(top_corr)\n",
    "\n",
    "    top_corr.plot(kind='barh')\n",
    "    plt.title('15 characteristics most correlated with phishing')\n",
    "    plt.xlabel('Correlation')\n",
    "    plt.show()"
   ]
  },
  {
   "cell_type": "code",
   "execution_count": 12,
   "id": "b69abf22",
   "metadata": {},
   "outputs": [],
   "source": [
    "@task\n",
    "@timing_decorator\n",
    "def preprocessing(df):\n",
    "    X = df.drop('phishing', axis=1) \n",
    "    y = df['phishing']\n",
    "\n",
    "    print(f\"\\nX (Features): {X.shape}\")\n",
    "    print(f\"y (Target): {y.shape}\")\n",
    "\n",
    "    X_train, X_test, y_train, y_test = train_test_split(X, y, test_size=0.2, random_state=42, stratify=y)\n",
    "\n",
    "\n",
    "    print(\"Tamaño de X_train: {}\\nTamaño de y_train: {}\".format(X_train.shape, y_train.shape))\n",
    "    print(\"Tamaño de X_test: {}\\nTamaño de y_test: {}\".format(X_test.shape, y_test.shape))\n",
    "\n",
    "    return X_train, X_test, y_train, y_test\n"
   ]
  },
  {
   "cell_type": "code",
   "execution_count": 40,
   "id": "a85da121",
   "metadata": {},
   "outputs": [],
   "source": [
    "@task\n",
    "@timing_decorator\n",
    "def confusion_matrix(class_names, model, X_test, y_test):\n",
    " \n",
    "    print(\"Visualización de desempeño con Matriz de Confusión:\")\n",
    "    y_pred = model.predict(X_test)\n",
    "  \n",
    "    disp = ConfusionMatrixDisplay.from_predictions(\n",
    "        y_test,\n",
    "        y_pred,\n",
    "        display_labels=class_names,\n",
    "        cmap=plt.cm.Blues,\n",
    "        normalize=None\n",
    "    )\n",
    " \n",
    "    disp.ax_.set_title(\"Confusion Matrix\")\n",
    "    print(\"Confusion Matrix\")\n",
    "    print(disp.confusion_matrix)\n",
    " \n",
    "    plt.show()"
   ]
  },
  {
   "cell_type": "code",
   "execution_count": 45,
   "id": "daf41edb",
   "metadata": {},
   "outputs": [],
   "source": [
    "@task\n",
    "@timing_decorator\n",
    "def show_classificationreport(model, X_test, y_test, class_names=None):\n",
    "    \n",
    "    y_pred = model.predict(X_test)\n",
    "\n",
    "    # classification_report expects target_names to be an iterable of strings or None\n",
    "    if class_names is not None:\n",
    "        try:\n",
    "            # convert each name to string to avoid TypeError when names are ints\n",
    "            target_names = [str(c) for c in class_names]\n",
    "        except Exception:\n",
    "            target_names = None\n",
    "    else:\n",
    "        target_names = None\n",
    "\n",
    "    print(\"Clasification Report\")\n",
    "    report = classification_report(y_test, y_pred, target_names=target_names)\n",
    "    print(report)\n",
    "    \n",
    "    return report"
   ]
  },
  {
   "cell_type": "markdown",
   "id": "747287fe",
   "metadata": {},
   "source": [
    "#### Decision Tree"
   ]
  },
  {
   "cell_type": "code",
   "execution_count": 43,
   "id": "dea69a75",
   "metadata": {},
   "outputs": [],
   "source": [
    "@task\n",
    "@timing_decorator\n",
    "def decision_tree(X_train, X_test, y_train, y_test):\n",
    "\n",
    "    dtree = DecisionTreeClassifier()\n",
    "\n",
    "    # Entrenamiento\n",
    "    dtree = dtree.fit(X_train, y_train)\n",
    "\n",
    "    # Predicción para evaluación\n",
    "    y_pred = dtree.predict(X_test)\n",
    "\n",
    "    resultado_comparacion = pd.concat([\n",
    "        X_test,\n",
    "        pd.Series(y_test, name='Actual', index=X_test.index),\n",
    "        pd.Series(y_pred, name='Predicción', index=X_test.index)\n",
    "    ], axis=1)\n",
    "    \n",
    "    print(\"Comparación de predicciones (primeras 5 filas):\")\n",
    "    print(resultado_comparacion.head())\n",
    "\n",
    "    cv_scores = cross_val_score(dtree, X_train, y_train, cv=5)\n",
    "    print(f\"\\nResultados de la validación cruzada en decision tree:: {cv_scores}\")\n",
    "    print(f\"Resultado promedio de la validación cruzada en decision tree:: {np.average(cv_scores):.4f}\")\n",
    "    print(\"Exactitud (accuracy) en prueba (testing) del decision tree:\", metrics.accuracy_score(y_test, y_pred))\n",
    "\n",
    "    return dtree"
   ]
  },
  {
   "cell_type": "markdown",
   "id": "a147b0e4",
   "metadata": {},
   "source": [
    "#### Random Forest"
   ]
  },
  {
   "cell_type": "code",
   "execution_count": 16,
   "id": "1e6c2dc4",
   "metadata": {},
   "outputs": [],
   "source": [
    "@task\n",
    "@timing_decorator\n",
    "def random_forest(X_train, X_test, y_train, y_test):\n",
    "    \n",
    "    rf_model = RandomForestClassifier(n_estimators=100, random_state=42)\n",
    "    \n",
    "    # Train the model\n",
    "    rf_model.fit(X_train, y_train)\n",
    "\n",
    "    # Make predictions\n",
    "    y_pred = rf_model.predict(X_test)\n",
    "\n",
    "    \n",
    "    cv_scores = cross_val_score(rf_model, X_train, y_train, cv=5)\n",
    "    print(f\"\\nResultados de la validación cruzada en Random Forest: {cv_scores}\")\n",
    "    print(f\"Resultado promedio de la validación cruzada en Random Forest: {np.average(cv_scores):.4f}\")\n",
    "    print(\"Exactitud (accuracy) en prueba (testing) del Random Forest:\", metrics.accuracy_score(y_test, y_pred))\n",
    "    \n",
    "    return rf_model"
   ]
  },
  {
   "cell_type": "markdown",
   "id": "1abf23cd",
   "metadata": {},
   "source": [
    "#### Knn"
   ]
  },
  {
   "cell_type": "code",
   "execution_count": 17,
   "id": "bd4c98d2",
   "metadata": {},
   "outputs": [],
   "source": [
    "@task\n",
    "@timing_decorator\n",
    "def knn(X_train, X_test, y_train, y_test):\n",
    "    \n",
    "    knn = KNeighborsClassifier(n_neighbors=5)\n",
    "    knn.fit(X_train, y_train)\n",
    "    y_pred = knn.predict(X_test)\n",
    "\n",
    "    resultado_comparacion = pd.concat([\n",
    "        X_test,\n",
    "        pd.Series(y_test, name='Actual', index=X_test.index),\n",
    "        pd.Series(y_pred, name='Predicción', index=X_test.index)\n",
    "    ], axis=1)\n",
    "\n",
    "    print(\"Comparación de hiperparámetros:\")\n",
    "    for k in [1, 3, 5, 7]:\n",
    "        knn = KNeighborsClassifier(n_neighbors=k)\n",
    "        knn.fit(X_train, y_train)\n",
    "        acc = knn.score(X_test, y_test)\n",
    "        print(f\"KNN (n_neighbors={k}) - Prueba de accuracy: {acc:.4f}\")\n",
    "    \n",
    "    print(\"Comparación de predicciones (primeras 5 filas):\")\n",
    "    print(resultado_comparacion.head())\n",
    "    \n",
    "    print(\"Score sobre el conjunto de test: {:.3f}\".format(knn.score(X_test, y_test)))\n",
    " \n",
    "    np.set_printoptions(precision=2)\n",
    "    #Validación cruzada datos entrenamiento \n",
    "    cv_scores = cross_val_score(knn, X_train, y_train, cv=5)\n",
    "    print(cv_scores)\n",
    " \n",
    "    print(\"Desempeño promedio del kNN:\")\n",
    "    print(np.average(cv_scores))\n",
    " \n",
    "    print(\"Exactitud (accuracy) en prueba (testing) del kNN:\", metrics.accuracy_score(y_test, y_pred))\n",
    "    \n",
    "    return knn "
   ]
  },
  {
   "cell_type": "code",
   "execution_count": 18,
   "id": "3f8c7922",
   "metadata": {},
   "outputs": [],
   "source": [
    "@task\n",
    "@timing_decorator\n",
    "def knn_scaler(X_train, X_test, y_train, y_test):\n",
    "    \n",
    "    scaler = StandardScaler()\n",
    "    x_train_scaler = scaler.fit_transform(X_train)\n",
    "    x_test_scaler = scaler.transform(X_test)\n",
    "    \n",
    "    knn_scaled = KNeighborsClassifier(n_neighbors=5)\n",
    "    knn_scaled.fit(x_train_scaler, y_train)\n",
    "    y_pred = knn_scaled.predict(x_test_scaler)\n",
    "    \n",
    "    comparacion_df = pd.concat([\n",
    "        X_test,\n",
    "        pd.Series(y_test, name='Actual', index=X_test.index),\n",
    "        pd.Series(y_pred, name='Predicción', index=X_test.index)\n",
    "    ], axis=1)\n",
    "    \n",
    "    print(\"Comparación de hiperparámetros:\")\n",
    "    for kernel in ['linear', 'rbf']:\n",
    "        for C in [0.1, 1, 10]:\n",
    "            svm = SVC(kernel=kernel, C=C, random_state=0)\n",
    "            svm.fit(X_train, y_train)\n",
    "            acc = svm.score(X_test, y_test)\n",
    "            print(f\"SVM (kernel={kernel}, C={C}) - Prueba de accuracy: {acc:.4f}\")\n",
    "    \n",
    "    print(\"Comparación de predicciones:\")\n",
    "    print(comparacion_df.head())\n",
    " \n",
    "    print(\"Score sobre el conjunto de test: {:.3f}\".format(knn_scaled.score(x_test_scaler, y_test)))\n",
    " \n",
    "    np.set_printoptions(precision=2)\n",
    "    cv_scores = cross_val_score(knn_scaled, x_train_scaler, y_train, cv=5)\n",
    "    print(cv_scores)\n",
    " \n",
    "    print(\"Desempeño promedio:\")\n",
    "    print(np.average(cv_scores))\n",
    " \n",
    "    print(\"Exactitud (accuracy) en prueba (testing):\", metrics.accuracy_score(y_test, y_pred))\n",
    " \n",
    "    \n",
    "    return knn_scaled"
   ]
  },
  {
   "cell_type": "markdown",
   "id": "3fb3e28d",
   "metadata": {},
   "source": [
    "#### SVM\n"
   ]
  },
  {
   "cell_type": "code",
   "execution_count": 19,
   "id": "faca6380",
   "metadata": {},
   "outputs": [],
   "source": [
    "@task\n",
    "@timing_decorator\n",
    "def svm(X_train, X_test, y_train, y_test):\n",
    "    \n",
    "    svm_class = SVC(kernel='rbf', random_state=42)\n",
    "    svm_class.fit(X_train, y_train)\n",
    "\n",
    "    y_pred = svm_class.predict(X_test)\n",
    "\n",
    "    resultado_comparacion = pd.concat([\n",
    "        X_test,\n",
    "        pd.Series(y_test, name='Actual', index=X_test.index),\n",
    "        pd.Series(y_pred, name='Predicción', index=X_test.index)\n",
    "    ], axis=1)\n",
    "\n",
    "    print(\"Comparación de predicciones (primeras 5 filas):\")\n",
    "    print(resultado_comparacion.head())\n",
    "   \n",
    "    print(\"Score de entrenamiento: {:.3f}\".format(svm_class.score(X_train, y_train)))\n",
    "    print(\"Score de test: {:.3f}\".format(svm_class.score(X_test, y_test)))\n",
    " \n",
    "    np.set_printoptions(precision=2)\n",
    "    cv_scores = cross_val_score(svm_class, X_train, y_train, cv=5)\n",
    "    print(\"Scores de validación cruzada:\")\n",
    "    print(cv_scores)\n",
    " \n",
    "    print(\"Desempeño promedio:\")\n",
    "    print(np.average(cv_scores))\n",
    " \n",
    "    print(\"Accuracy en el testing:\", metrics.accuracy_score(y_test, y_pred))\n",
    "    \n",
    "    return svm_class"
   ]
  },
  {
   "cell_type": "code",
   "execution_count": 20,
   "id": "a0f29e85",
   "metadata": {},
   "outputs": [],
   "source": [
    "@task\n",
    "@timing_decorator\n",
    "def svm_scaler(X_train, X_test, y_train, y_test):\n",
    "    \n",
    "    scaler = StandardScaler()\n",
    "    x_train_scaler = scaler.fit_transform(X_train)\n",
    "    x_test_scaler = scaler.transform(X_test)\n",
    "    \n",
    "    svm_class_scaled = SVC(kernel='rbf', random_state=0)\n",
    "    svm_class_scaled.fit(x_train_scaler, y_train)\n",
    "\n",
    "    y_pred = svm_class_scaled.predict(x_test_scaler)\n",
    "    \n",
    "    resultado_comparacion = pd.concat([\n",
    "        X_test,\n",
    "        pd.Series(y_test, name='Actual', index=X_test.index),\n",
    "        pd.Series(y_pred, name='Predicción', index=X_test.index)\n",
    "    ], axis=1)\n",
    "    \n",
    "    print(\"Comparación de predicciones (primeras 5 filas):\")\n",
    "    print(resultado_comparacion.head())\n",
    "   \n",
    "    print(\"Score de entrenamiento: {:.3f}\".format(svm_class_scaled.score(x_train_scaler, y_train)))\n",
    "    print(\"Score de test: {:.3f}\".format(svm_class_scaled.score(x_test_scaler, y_test)))\n",
    " \n",
    "    np.set_printoptions(precision=2)\n",
    "    cv_scores = cross_val_score(svm_class_scaled, x_train_scaler, y_train, cv=5)\n",
    "    print(\"Scores de validación cruzada:\")\n",
    "    print(cv_scores)\n",
    " \n",
    "    print(\"Desempeño promedio:\")\n",
    "    print(np.average(cv_scores))\n",
    " \n",
    "    print(\"Accuracy en el testing:\", metrics.accuracy_score(y_test, y_pred))\n",
    " \n",
    "    \n",
    "    return svm_class_scaled"
   ]
  },
  {
   "cell_type": "markdown",
   "id": "3e151cec",
   "metadata": {},
   "source": [
    "#### Logistic Regression"
   ]
  },
  {
   "cell_type": "code",
   "execution_count": 21,
   "id": "57787f7e",
   "metadata": {},
   "outputs": [],
   "source": [
    "@task\n",
    "@timing_decorator\n",
    "def logistic_regression(X_train, X_test, y_train, y_test):\n",
    "    \n",
    "    lr = LogisticRegression(max_iter=1000, random_state=42)\n",
    "    lr.fit(X_train, y_train)\n",
    "    y_pred = lr.predict(X_test)\n",
    "    \n",
    "    resultado_comparacion = pd.concat([\n",
    "        X_test,\n",
    "        pd.Series(y_test, name='Actual', index=X_test.index),\n",
    "        pd.Series(y_pred, name='Predicción', index=X_test.index)\n",
    "    ], axis=1)\n",
    "    \n",
    "    print(\"\\nComparación de predicciones (primeras 5 filas):\")\n",
    "    print(resultado_comparacion.head())\n",
    "    \n",
    "    cv_scores = cross_val_score(lr, X_train, y_train, cv=5)\n",
    "    print(f\"\\nResultados de la validación cruzada: {cv_scores}\")\n",
    "    print(f\"Resultado promedio de la validación cruzada: {np.average(cv_scores):.4f}\")\n",
    "    \n",
    "    accuracy = metrics.accuracy_score(y_test, y_pred)\n",
    "    print(f\"Exactitud (accuracy) en prueba (testing): {accuracy:.4f}\")\n",
    "    \n",
    "    return lr"
   ]
  },
  {
   "cell_type": "code",
   "execution_count": 22,
   "id": "a9e11b71",
   "metadata": {},
   "outputs": [],
   "source": [
    "@task\n",
    "@timing_decorator\n",
    "def logistic_regression_scaler(X_train, X_test, y_train, y_test):\n",
    "    \n",
    "    scaler = StandardScaler()\n",
    "    x_train_scaler = scaler.fit_transform(X_train)\n",
    "    x_test_scaler = scaler.transform(X_test)\n",
    "    \n",
    "    lr_scaled = LogisticRegression(max_iter=1000, random_state=42)\n",
    "    lr_scaled.fit(x_train_scaler, y_train)\n",
    "    y_pred = lr_scaled.predict(x_test_scaler)\n",
    "    \n",
    "    resultado_comparacion = pd.concat([\n",
    "        X_test,\n",
    "        pd.Series(y_test, name='Actual', index=X_test.index),\n",
    "        pd.Series(y_pred, name='Predicción', index=X_test.index)\n",
    "    ], axis=1)\n",
    "    \n",
    "    print(\"\\nComparación de predicciones (primeras 5 filas):\")\n",
    "    print(resultado_comparacion.head())\n",
    "    \n",
    "    cv_scores = cross_val_score(lr_scaled, x_train_scaler, y_train, cv=5)\n",
    "    print(f\"\\nResultados de la validación cruzada: {cv_scores}\")\n",
    "    print(f\"Resultado promedio de la validación cruzada: {np.average(cv_scores):.4f}\")\n",
    "    \n",
    "    accuracy = metrics.accuracy_score(y_test, y_pred)\n",
    "    print(f\"Exactitud (accuracy) en prueba (testing): {accuracy:.4f}\")\n",
    "    \n",
    "    return lr_scaled, y_pred, accuracy"
   ]
  },
  {
   "cell_type": "code",
   "execution_count": null,
   "id": "89a4ad1f",
   "metadata": {},
   "outputs": [
    {
     "data": {
      "text/html": [
       "<pre style=\"white-space:pre;overflow-x:auto;line-height:normal;font-family:Menlo,'DejaVu Sans Mono',consolas,'Courier New',monospace\">10:54:46.504 | <span style=\"color: #008080; text-decoration-color: #008080\">INFO</span>    | Flow run<span style=\"color: #800080; text-decoration-color: #800080\"> 'aloof-taipan'</span> - Beginning flow run<span style=\"color: #800080; text-decoration-color: #800080\"> 'aloof-taipan'</span> for flow<span style=\"color: #800080; text-decoration-color: #800080; font-weight: bold\"> 'small-dataset-flow'</span>\n",
       "</pre>\n"
      ],
      "text/plain": [
       "10:54:46.504 | \u001b[36mINFO\u001b[0m    | Flow run\u001b[35m 'aloof-taipan'\u001b[0m - Beginning flow run\u001b[35m 'aloof-taipan'\u001b[0m for flow\u001b[1;35m 'small-dataset-flow'\u001b[0m\n"
      ]
     },
     "metadata": {},
     "output_type": "display_data"
    },
    {
     "data": {
      "text/html": [
       "<pre style=\"white-space:pre;overflow-x:auto;line-height:normal;font-family:Menlo,'DejaVu Sans Mono',consolas,'Courier New',monospace\">10:54:46.772 | <span style=\"color: #008080; text-decoration-color: #008080\">INFO</span>    | Task run 'load_data-56c' - Task 'load_data' completed in 0.25 seconds\n",
       "</pre>\n"
      ],
      "text/plain": [
       "10:54:46.772 | \u001b[36mINFO\u001b[0m    | Task run 'load_data-56c' - Task 'load_data' completed in 0.25 seconds\n"
      ]
     },
     "metadata": {},
     "output_type": "display_data"
    },
    {
     "data": {
      "text/html": [
       "<pre style=\"white-space:pre;overflow-x:auto;line-height:normal;font-family:Menlo,'DejaVu Sans Mono',consolas,'Courier New',monospace\">10:54:46.779 | <span style=\"color: #008080; text-decoration-color: #008080\">INFO</span>    | Task run 'load_data-56c' - Finished in state <span style=\"color: #008000; text-decoration-color: #008000\">Completed</span>()\n",
       "</pre>\n"
      ],
      "text/plain": [
       "10:54:46.779 | \u001b[36mINFO\u001b[0m    | Task run 'load_data-56c' - Finished in state \u001b[32mCompleted\u001b[0m()\n"
      ]
     },
     "metadata": {},
     "output_type": "display_data"
    },
    {
     "name": "stdout",
     "output_type": "stream",
     "text": [
      "Class Distribution:\n"
     ]
    },
    {
     "data": {
      "image/png": "[encoded data removed]",
      "text/plain": [
       "<Figure size 640x480 with 1 Axes>"
      ]
     },
     "metadata": {},
     "output_type": "display_data"
    },
    {
     "name": "stdout",
     "output_type": "stream",
     "text": [
      "\n",
      "Percentage Distribution:\n"
     ]
    },
    {
     "data": {
      "image/png": "[encoded data removed]",
      "text/plain": [
       "<Figure size 640x480 with 1 Axes>"
      ]
     },
     "metadata": {},
     "output_type": "display_data"
    },
    {
     "data": {
      "text/html": [
       "<pre style=\"white-space:pre;overflow-x:auto;line-height:normal;font-family:Menlo,'DejaVu Sans Mono',consolas,'Courier New',monospace\">10:54:47.077 | <span style=\"color: #008080; text-decoration-color: #008080\">INFO</span>    | Task run 'distribution_plotter-eb9' - Task 'distribution_plotter' completed in 0.14 seconds\n",
       "</pre>\n"
      ],
      "text/plain": [
       "10:54:47.077 | \u001b[36mINFO\u001b[0m    | Task run 'distribution_plotter-eb9' - Task 'distribution_plotter' completed in 0.14 seconds\n"
      ]
     },
     "metadata": {},
     "output_type": "display_data"
    },
    {
     "data": {
      "text/html": [
       "<pre style=\"white-space:pre;overflow-x:auto;line-height:normal;font-family:Menlo,'DejaVu Sans Mono',consolas,'Courier New',monospace\">10:54:47.081 | <span style=\"color: #008080; text-decoration-color: #008080\">INFO</span>    | Task run 'distribution_plotter-eb9' - Finished in state <span style=\"color: #008000; text-decoration-color: #008000\">Completed</span>()\n",
       "</pre>\n"
      ],
      "text/plain": [
       "10:54:47.081 | \u001b[36mINFO\u001b[0m    | Task run 'distribution_plotter-eb9' - Finished in state \u001b[32mCompleted\u001b[0m()\n"
      ]
     },
     "metadata": {},
     "output_type": "display_data"
    },
    {
     "name": "stdout",
     "output_type": "stream",
     "text": [
      "Total missing values: 0\n",
      "Duplicate: 1240\n",
      "\n",
      "                        count      mean       std  min  25%  50%  75%   max\n",
      "qty_dot_url           58645.0  2.284338  1.473209  1.0  2.0  2.0  3.0  24.0\n",
      "qty_hyphen_url        58645.0  0.457123  1.339340  0.0  0.0  0.0  0.0  35.0\n",
      "qty_underline_url     58645.0  0.171285  0.801919  0.0  0.0  0.0  0.0  21.0\n",
      "qty_slash_url         58645.0  1.937522  2.037525  0.0  0.0  1.0  3.0  44.0\n",
      "qty_questionmark_url  58645.0  0.014102  0.138156  0.0  0.0  0.0  0.0   9.0\n",
      "...                       ...       ...       ...  ...  ...  ...  ...   ...\n",
      "qty_redirects         58645.0  0.303419  0.815315 -1.0  0.0  0.0  1.0  17.0\n",
      "url_google_index      58645.0  0.001279  0.037599 -1.0  0.0  0.0  0.0   1.0\n",
      "domain_google_index   58645.0  0.002234  0.047927 -1.0  0.0  0.0  0.0   1.0\n",
      "url_shortened         58645.0  0.008287  0.090657  0.0  0.0  0.0  0.0   1.0\n",
      "phishing              58645.0  0.522585  0.499494  0.0  0.0  1.0  1.0   1.0\n",
      "\n",
      "[112 rows x 8 columns]\n",
      "                        count      mean       std  min  25%  50%  75%   max\n",
      "qty_dot_url           58645.0  2.284338  1.473209  1.0  2.0  2.0  3.0  24.0\n",
      "qty_hyphen_url        58645.0  0.457123  1.339340  0.0  0.0  0.0  0.0  35.0\n",
      "qty_underline_url     58645.0  0.171285  0.801919  0.0  0.0  0.0  0.0  21.0\n",
      "qty_slash_url         58645.0  1.937522  2.037525  0.0  0.0  1.0  3.0  44.0\n",
      "qty_questionmark_url  58645.0  0.014102  0.138156  0.0  0.0  0.0  0.0   9.0\n",
      "...                       ...       ...       ...  ...  ...  ...  ...   ...\n",
      "qty_redirects         58645.0  0.303419  0.815315 -1.0  0.0  0.0  1.0  17.0\n",
      "url_google_index      58645.0  0.001279  0.037599 -1.0  0.0  0.0  0.0   1.0\n",
      "domain_google_index   58645.0  0.002234  0.047927 -1.0  0.0  0.0  0.0   1.0\n",
      "url_shortened         58645.0  0.008287  0.090657  0.0  0.0  0.0  0.0   1.0\n",
      "phishing              58645.0  0.522585  0.499494  0.0  0.0  1.0  1.0   1.0\n",
      "\n",
      "[112 rows x 8 columns]\n"
     ]
    },
    {
     "data": {
      "text/html": [
       "<pre style=\"white-space:pre;overflow-x:auto;line-height:normal;font-family:Menlo,'DejaVu Sans Mono',consolas,'Courier New',monospace\">10:54:47.574 | <span style=\"color: #008080; text-decoration-color: #008080\">INFO</span>    | Task run 'descriptor-87f' - Task 'descriptor' completed in 0.31 seconds\n",
       "</pre>\n"
      ],
      "text/plain": [
       "10:54:47.574 | \u001b[36mINFO\u001b[0m    | Task run 'descriptor-87f' - Task 'descriptor' completed in 0.31 seconds\n"
      ]
     },
     "metadata": {},
     "output_type": "display_data"
    },
    {
     "data": {
      "text/html": [
       "<pre style=\"white-space:pre;overflow-x:auto;line-height:normal;font-family:Menlo,'DejaVu Sans Mono',consolas,'Courier New',monospace\">10:54:47.579 | <span style=\"color: #008080; text-decoration-color: #008080\">INFO</span>    | Task run 'descriptor-87f' - Finished in state <span style=\"color: #008000; text-decoration-color: #008000\">Completed</span>()\n",
       "</pre>\n"
      ],
      "text/plain": [
       "10:54:47.579 | \u001b[36mINFO\u001b[0m    | Task run 'descriptor-87f' - Finished in state \u001b[32mCompleted\u001b[0m()\n"
      ]
     },
     "metadata": {},
     "output_type": "display_data"
    },
    {
     "name": "stdout",
     "output_type": "stream",
     "text": [
      "qty_slash_directory           0.644812\n",
      "qty_questionmark_directory    0.626792\n",
      "qty_questionmark_file         0.626792\n",
      "qty_slash_file                0.626792\n",
      "qty_dollar_file               0.626792\n",
      "qty_hashtag_file              0.626792\n",
      "qty_hashtag_directory         0.626792\n",
      "qty_at_file                   0.626609\n",
      "qty_exclamation_file          0.625984\n",
      "qty_and_file                  0.625704\n",
      "qty_tilde_file                0.625303\n",
      "qty_equal_file                0.623972\n",
      "qty_space_file                0.622477\n",
      "qty_comma_file                0.621802\n",
      "qty_exclamation_directory     0.621736\n",
      "Name: phishing, dtype: float64\n"
     ]
    },
    {
     "data": {
      "image/png": "[encoded data removed]",
      "text/plain": [
       "<Figure size 640x480 with 1 Axes>"
      ]
     },
     "metadata": {},
     "output_type": "display_data"
    },
    {
     "data": {
      "text/html": [
       "<pre style=\"white-space:pre;overflow-x:auto;line-height:normal;font-family:Menlo,'DejaVu Sans Mono',consolas,'Courier New',monospace\">10:54:48.950 | <span style=\"color: #008080; text-decoration-color: #008080\">INFO</span>    | Task run 'correlation-bf3' - Task 'correlation' completed in 1.20 seconds\n",
       "</pre>\n"
      ],
      "text/plain": [
       "10:54:48.950 | \u001b[36mINFO\u001b[0m    | Task run 'correlation-bf3' - Task 'correlation' completed in 1.20 seconds\n"
      ]
     },
     "metadata": {},
     "output_type": "display_data"
    },
    {
     "data": {
      "text/html": [
       "<pre style=\"white-space:pre;overflow-x:auto;line-height:normal;font-family:Menlo,'DejaVu Sans Mono',consolas,'Courier New',monospace\">10:54:48.954 | <span style=\"color: #008080; text-decoration-color: #008080\">INFO</span>    | Task run 'correlation-bf3' - Finished in state <span style=\"color: #008000; text-decoration-color: #008000\">Completed</span>()\n",
       "</pre>\n"
      ],
      "text/plain": [
       "10:54:48.954 | \u001b[36mINFO\u001b[0m    | Task run 'correlation-bf3' - Finished in state \u001b[32mCompleted\u001b[0m()\n"
      ]
     },
     "metadata": {},
     "output_type": "display_data"
    },
    {
     "name": "stdout",
     "output_type": "stream",
     "text": [
      "\n",
      "X (Features): (58645, 111)\n",
      "y (Target): (58645,)\n",
      "Tamaño de X_train: (46916, 111)\n",
      "Tamaño de y_train: (46916,)\n",
      "Tamaño de X_test: (11729, 111)\n",
      "Tamaño de y_test: (11729,)\n"
     ]
    },
    {
     "data": {
      "text/html": [
       "<pre style=\"white-space:pre;overflow-x:auto;line-height:normal;font-family:Menlo,'DejaVu Sans Mono',consolas,'Courier New',monospace\">10:54:49.210 | <span style=\"color: #008080; text-decoration-color: #008080\">INFO</span>    | Task run 'preprocessing-c08' - Task 'preprocessing' completed in 0.07 seconds\n",
       "</pre>\n"
      ],
      "text/plain": [
       "10:54:49.210 | \u001b[36mINFO\u001b[0m    | Task run 'preprocessing-c08' - Task 'preprocessing' completed in 0.07 seconds\n"
      ]
     },
     "metadata": {},
     "output_type": "display_data"
    },
    {
     "data": {
      "text/html": [
       "<pre style=\"white-space:pre;overflow-x:auto;line-height:normal;font-family:Menlo,'DejaVu Sans Mono',consolas,'Courier New',monospace\">10:54:49.216 | <span style=\"color: #008080; text-decoration-color: #008080\">INFO</span>    | Task run 'preprocessing-c08' - Finished in state <span style=\"color: #008000; text-decoration-color: #008000\">Completed</span>()\n",
       "</pre>\n"
      ],
      "text/plain": [
       "10:54:49.216 | \u001b[36mINFO\u001b[0m    | Task run 'preprocessing-c08' - Finished in state \u001b[32mCompleted\u001b[0m()\n"
      ]
     },
     "metadata": {},
     "output_type": "display_data"
    },
    {
     "name": "stdout",
     "output_type": "stream",
     "text": [
      "Comparación de predicciones (primeras 5 filas):\n",
      "       qty_dot_url  qty_hyphen_url  qty_underline_url  qty_slash_url  \\\n",
      "8833             2               0                  2              2   \n",
      "54083            2               0                  0              1   \n",
      "54281            2               0                  0              1   \n",
      "47386            4               0                  0              0   \n",
      "37042            2               0                  0              0   \n",
      "\n",
      "       qty_questionmark_url  qty_equal_url  qty_at_url  qty_and_url  \\\n",
      "8833                      0              0           0            0   \n",
      "54083                     0              0           0            0   \n",
      "54281                     0              0           0            0   \n",
      "47386                     0              0           0            0   \n",
      "37042                     0              0           0            0   \n",
      "\n",
      "       qty_exclamation_url  qty_space_url  ...  qty_nameservers  \\\n",
      "8833                     0              0  ...                3   \n",
      "54083                    0              0  ...                4   \n",
      "54281                    0              0  ...                2   \n",
      "47386                    0              0  ...                2   \n",
      "37042                    0              0  ...                2   \n",
      "\n",
      "       qty_mx_servers  ttl_hostname  tls_ssl_certificate  qty_redirects  \\\n",
      "8833                2           543                    1              1   \n",
      "54083               1         14377                    1              0   \n",
      "54281               1            96                    1              1   \n",
      "47386               1         14384                    1              0   \n",
      "37042               1           590                    1              1   \n",
      "\n",
      "       url_google_index  domain_google_index  url_shortened  Actual  \\\n",
      "8833                  0                    0              0       0   \n",
      "54083                 0                    0              0       1   \n",
      "54281                 0                    0              0       0   \n",
      "47386                 0                    0              0       0   \n",
      "37042                 0                    0              0       0   \n",
      "\n",
      "       Predicción  \n",
      "8833            0  \n",
      "54083           1  \n",
      "54281           0  \n",
      "47386           0  \n",
      "37042           0  \n",
      "\n",
      "[5 rows x 113 columns]\n",
      "\n",
      "Resultados de la validación cruzada en decision tree:: [0.93052003 0.93029948 0.92720878 0.93104551 0.92507727]\n",
      "Resultado promedio de la validación cruzada en decision tree:: 0.9288\n",
      "Exactitud (accuracy) en prueba (testing) del decision tree: 0.9332423906556399\n",
      "\n",
      "Resultados de la validación cruzada en decision tree:: [0.93052003 0.93029948 0.92720878 0.93104551 0.92507727]\n",
      "Resultado promedio de la validación cruzada en decision tree:: 0.9288\n",
      "Exactitud (accuracy) en prueba (testing) del decision tree: 0.9332423906556399\n"
     ]
    },
    {
     "data": {
      "text/html": [
       "<pre style=\"white-space:pre;overflow-x:auto;line-height:normal;font-family:Menlo,'DejaVu Sans Mono',consolas,'Courier New',monospace\">10:54:53.436 | <span style=\"color: #008080; text-decoration-color: #008080\">INFO</span>    | Task run 'decision_tree-00a' - Task 'decision_tree' completed in 3.86 seconds\n",
       "</pre>\n"
      ],
      "text/plain": [
       "10:54:53.436 | \u001b[36mINFO\u001b[0m    | Task run 'decision_tree-00a' - Task 'decision_tree' completed in 3.86 seconds\n"
      ]
     },
     "metadata": {},
     "output_type": "display_data"
    },
    {
     "data": {
      "text/html": [
       "<pre style=\"white-space:pre;overflow-x:auto;line-height:normal;font-family:Menlo,'DejaVu Sans Mono',consolas,'Courier New',monospace\">10:54:53.441 | <span style=\"color: #008080; text-decoration-color: #008080\">INFO</span>    | Task run 'decision_tree-00a' - Finished in state <span style=\"color: #008000; text-decoration-color: #008000\">Completed</span>()\n",
       "</pre>\n"
      ],
      "text/plain": [
       "10:54:53.441 | \u001b[36mINFO\u001b[0m    | Task run 'decision_tree-00a' - Finished in state \u001b[32mCompleted\u001b[0m()\n"
      ]
     },
     "metadata": {},
     "output_type": "display_data"
    },
    {
     "name": "stdout",
     "output_type": "stream",
     "text": [
      "Visualización de desempeño con Matriz de Confusión:\n",
      "Confusion Matrix\n",
      "[[5207  393]\n",
      " [ 390 5739]]\n"
     ]
    },
    {
     "data": {
      "image/png": "[encoded data removed]",
      "text/plain": [
       "<Figure size 640x480 with 2 Axes>"
      ]
     },
     "metadata": {},
     "output_type": "display_data"
    },
    {
     "data": {
      "text/html": [
       "<pre style=\"white-space:pre;overflow-x:auto;line-height:normal;font-family:Menlo,'DejaVu Sans Mono',consolas,'Courier New',monospace\">10:54:53.636 | <span style=\"color: #008080; text-decoration-color: #008080\">INFO</span>    | Task run 'confusion_matrix-fa7' - Task 'confusion_matrix' completed in 0.11 seconds\n",
       "</pre>\n"
      ],
      "text/plain": [
       "10:54:53.636 | \u001b[36mINFO\u001b[0m    | Task run 'confusion_matrix-fa7' - Task 'confusion_matrix' completed in 0.11 seconds\n"
      ]
     },
     "metadata": {},
     "output_type": "display_data"
    },
    {
     "data": {
      "text/html": [
       "<pre style=\"white-space:pre;overflow-x:auto;line-height:normal;font-family:Menlo,'DejaVu Sans Mono',consolas,'Courier New',monospace\">10:54:53.636 | <span style=\"color: #008080; text-decoration-color: #008080\">INFO</span>    | Task run 'confusion_matrix-fa7' - Finished in state <span style=\"color: #008000; text-decoration-color: #008000\">Completed</span>()\n",
       "</pre>\n"
      ],
      "text/plain": [
       "10:54:53.636 | \u001b[36mINFO\u001b[0m    | Task run 'confusion_matrix-fa7' - Finished in state \u001b[32mCompleted\u001b[0m()\n"
      ]
     },
     "metadata": {},
     "output_type": "display_data"
    },
    {
     "name": "stdout",
     "output_type": "stream",
     "text": [
      "Clasification Report\n",
      "              precision    recall  f1-score   support\n",
      "\n",
      "           0       0.93      0.93      0.93      5600\n",
      "           1       0.94      0.94      0.94      6129\n",
      "\n",
      "    accuracy                           0.93     11729\n",
      "   macro avg       0.93      0.93      0.93     11729\n",
      "weighted avg       0.93      0.93      0.93     11729\n",
      "\n"
     ]
    },
    {
     "data": {
      "text/html": [
       "<pre style=\"white-space:pre;overflow-x:auto;line-height:normal;font-family:Menlo,'DejaVu Sans Mono',consolas,'Courier New',monospace\">10:54:53.765 | <span style=\"color: #008080; text-decoration-color: #008080\">INFO</span>    | Task run 'show_classificationreport-708' - Task 'show_classificationreport' completed in 0.02 seconds\n",
       "</pre>\n"
      ],
      "text/plain": [
       "10:54:53.765 | \u001b[36mINFO\u001b[0m    | Task run 'show_classificationreport-708' - Task 'show_classificationreport' completed in 0.02 seconds\n"
      ]
     },
     "metadata": {},
     "output_type": "display_data"
    },
    {
     "data": {
      "text/html": [
       "<pre style=\"white-space:pre;overflow-x:auto;line-height:normal;font-family:Menlo,'DejaVu Sans Mono',consolas,'Courier New',monospace\">10:54:53.765 | <span style=\"color: #008080; text-decoration-color: #008080\">INFO</span>    | Task run 'show_classificationreport-708' - Finished in state <span style=\"color: #008000; text-decoration-color: #008000\">Completed</span>()\n",
       "</pre>\n"
      ],
      "text/plain": [
       "10:54:53.765 | \u001b[36mINFO\u001b[0m    | Task run 'show_classificationreport-708' - Finished in state \u001b[32mCompleted\u001b[0m()\n"
      ]
     },
     "metadata": {},
     "output_type": "display_data"
    },
    {
     "name": "stdout",
     "output_type": "stream",
     "text": [
      "\n",
      "Resultados de la validación cruzada en Random Forest: [0.95588235 0.9525738  0.95353299 0.95406586 0.95651711]\n",
      "Resultado promedio de la validación cruzada en Random Forest: 0.9545\n",
      "Exactitud (accuracy) en prueba (testing) del Random Forest: 0.9561769971864609\n"
     ]
    },
    {
     "data": {
      "text/html": [
       "<pre style=\"white-space:pre;overflow-x:auto;line-height:normal;font-family:Menlo,'DejaVu Sans Mono',consolas,'Courier New',monospace\">10:55:21.907 | <span style=\"color: #008080; text-decoration-color: #008080\">INFO</span>    | Task run 'random_forest-aeb' - Task 'random_forest' completed in 27.78 seconds\n",
       "</pre>\n"
      ],
      "text/plain": [
       "10:55:21.907 | \u001b[36mINFO\u001b[0m    | Task run 'random_forest-aeb' - Task 'random_forest' completed in 27.78 seconds\n"
      ]
     },
     "metadata": {},
     "output_type": "display_data"
    },
    {
     "data": {
      "text/html": [
       "<pre style=\"white-space:pre;overflow-x:auto;line-height:normal;font-family:Menlo,'DejaVu Sans Mono',consolas,'Courier New',monospace\">10:55:21.907 | <span style=\"color: #008080; text-decoration-color: #008080\">INFO</span>    | Task run 'random_forest-aeb' - Finished in state <span style=\"color: #008000; text-decoration-color: #008000\">Completed</span>()\n",
       "</pre>\n"
      ],
      "text/plain": [
       "10:55:21.907 | \u001b[36mINFO\u001b[0m    | Task run 'random_forest-aeb' - Finished in state \u001b[32mCompleted\u001b[0m()\n"
      ]
     },
     "metadata": {},
     "output_type": "display_data"
    },
    {
     "name": "stdout",
     "output_type": "stream",
     "text": [
      "Visualización de desempeño con Matriz de Confusión:\n",
      "Confusion Matrix\n",
      "[[5314  286]\n",
      " [ 228 5901]]\n"
     ]
    },
    {
     "data": {
      "image/png": "[encoded data removed]",
      "text/plain": [
       "<Figure size 640x480 with 2 Axes>"
      ]
     },
     "metadata": {},
     "output_type": "display_data"
    },
    {
     "data": {
      "text/html": [
       "<pre style=\"white-space:pre;overflow-x:auto;line-height:normal;font-family:Menlo,'DejaVu Sans Mono',consolas,'Courier New',monospace\">10:55:22.397 | <span style=\"color: #008080; text-decoration-color: #008080\">INFO</span>    | Task run 'confusion_matrix-c97' - Task 'confusion_matrix' completed in 0.25 seconds\n",
       "</pre>\n"
      ],
      "text/plain": [
       "10:55:22.397 | \u001b[36mINFO\u001b[0m    | Task run 'confusion_matrix-c97' - Task 'confusion_matrix' completed in 0.25 seconds\n"
      ]
     },
     "metadata": {},
     "output_type": "display_data"
    },
    {
     "data": {
      "text/html": [
       "<pre style=\"white-space:pre;overflow-x:auto;line-height:normal;font-family:Menlo,'DejaVu Sans Mono',consolas,'Courier New',monospace\">10:55:22.402 | <span style=\"color: #008080; text-decoration-color: #008080\">INFO</span>    | Task run 'confusion_matrix-c97' - Finished in state <span style=\"color: #008000; text-decoration-color: #008000\">Completed</span>()\n",
       "</pre>\n"
      ],
      "text/plain": [
       "10:55:22.402 | \u001b[36mINFO\u001b[0m    | Task run 'confusion_matrix-c97' - Finished in state \u001b[32mCompleted\u001b[0m()\n"
      ]
     },
     "metadata": {},
     "output_type": "display_data"
    },
    {
     "name": "stdout",
     "output_type": "stream",
     "text": [
      "Clasification Report\n",
      "              precision    recall  f1-score   support\n",
      "\n",
      "           0       0.96      0.95      0.95      5600\n",
      "           1       0.95      0.96      0.96      6129\n",
      "\n",
      "    accuracy                           0.96     11729\n",
      "   macro avg       0.96      0.96      0.96     11729\n",
      "weighted avg       0.96      0.96      0.96     11729\n",
      "\n"
     ]
    },
    {
     "data": {
      "text/html": [
       "<pre style=\"white-space:pre;overflow-x:auto;line-height:normal;font-family:Menlo,'DejaVu Sans Mono',consolas,'Courier New',monospace\">10:55:22.800 | <span style=\"color: #008080; text-decoration-color: #008080\">INFO</span>    | Task run 'show_classificationreport-4a4' - Task 'show_classificationreport' completed in 0.15 seconds\n",
       "</pre>\n"
      ],
      "text/plain": [
       "10:55:22.800 | \u001b[36mINFO\u001b[0m    | Task run 'show_classificationreport-4a4' - Task 'show_classificationreport' completed in 0.15 seconds\n"
      ]
     },
     "metadata": {},
     "output_type": "display_data"
    },
    {
     "data": {
      "text/html": [
       "<pre style=\"white-space:pre;overflow-x:auto;line-height:normal;font-family:Menlo,'DejaVu Sans Mono',consolas,'Courier New',monospace\">10:55:22.808 | <span style=\"color: #008080; text-decoration-color: #008080\">INFO</span>    | Task run 'show_classificationreport-4a4' - Finished in state <span style=\"color: #008000; text-decoration-color: #008000\">Completed</span>()\n",
       "</pre>\n"
      ],
      "text/plain": [
       "10:55:22.808 | \u001b[36mINFO\u001b[0m    | Task run 'show_classificationreport-4a4' - Finished in state \u001b[32mCompleted\u001b[0m()\n"
      ]
     },
     "metadata": {},
     "output_type": "display_data"
    },
    {
     "name": "stdout",
     "output_type": "stream",
     "text": [
      "Comparación de hiperparámetros:\n",
      "KNN (n_neighbors=1) - Prueba de accuracy: 0.8671\n",
      "KNN (n_neighbors=1) - Prueba de accuracy: 0.8671\n",
      "KNN (n_neighbors=3) - Prueba de accuracy: 0.8548\n",
      "KNN (n_neighbors=3) - Prueba de accuracy: 0.8548\n",
      "KNN (n_neighbors=5) - Prueba de accuracy: 0.8489\n",
      "KNN (n_neighbors=5) - Prueba de accuracy: 0.8489\n",
      "KNN (n_neighbors=7) - Prueba de accuracy: 0.8426\n",
      "Comparación de predicciones (primeras 5 filas):\n",
      "       qty_dot_url  qty_hyphen_url  qty_underline_url  qty_slash_url  \\\n",
      "8833             2               0                  2              2   \n",
      "54083            2               0                  0              1   \n",
      "54281            2               0                  0              1   \n",
      "47386            4               0                  0              0   \n",
      "37042            2               0                  0              0   \n",
      "\n",
      "       qty_questionmark_url  qty_equal_url  qty_at_url  qty_and_url  \\\n",
      "8833                      0              0           0            0   \n",
      "54083                     0              0           0            0   \n",
      "54281                     0              0           0            0   \n",
      "47386                     0              0           0            0   \n",
      "37042                     0              0           0            0   \n",
      "\n",
      "       qty_exclamation_url  qty_space_url  ...  qty_nameservers  \\\n",
      "8833                     0              0  ...                3   \n",
      "54083                    0              0  ...                4   \n",
      "54281                    0              0  ...                2   \n",
      "47386                    0              0  ...                2   \n",
      "37042                    0              0  ...                2   \n",
      "\n",
      "       qty_mx_servers  ttl_hostname  tls_ssl_certificate  qty_redirects  \\\n",
      "8833                2           543                    1              1   \n",
      "54083               1         14377                    1              0   \n",
      "54281               1            96                    1              1   \n",
      "47386               1         14384                    1              0   \n",
      "37042               1           590                    1              1   \n",
      "\n",
      "       url_google_index  domain_google_index  url_shortened  Actual  \\\n",
      "8833                  0                    0              0       0   \n",
      "54083                 0                    0              0       1   \n",
      "54281                 0                    0              0       0   \n",
      "47386                 0                    0              0       0   \n",
      "37042                 0                    0              0       0   \n",
      "\n",
      "       Predicción  \n",
      "8833            0  \n",
      "54083           1  \n",
      "54281           0  \n",
      "47386           0  \n",
      "37042           0  \n",
      "\n",
      "[5 rows x 113 columns]\n",
      "KNN (n_neighbors=7) - Prueba de accuracy: 0.8426\n",
      "Comparación de predicciones (primeras 5 filas):\n",
      "       qty_dot_url  qty_hyphen_url  qty_underline_url  qty_slash_url  \\\n",
      "8833             2               0                  2              2   \n",
      "54083            2               0                  0              1   \n",
      "54281            2               0                  0              1   \n",
      "47386            4               0                  0              0   \n",
      "37042            2               0                  0              0   \n",
      "\n",
      "       qty_questionmark_url  qty_equal_url  qty_at_url  qty_and_url  \\\n",
      "8833                      0              0           0            0   \n",
      "54083                     0              0           0            0   \n",
      "54281                     0              0           0            0   \n",
      "47386                     0              0           0            0   \n",
      "37042                     0              0           0            0   \n",
      "\n",
      "       qty_exclamation_url  qty_space_url  ...  qty_nameservers  \\\n",
      "8833                     0              0  ...                3   \n",
      "54083                    0              0  ...                4   \n",
      "54281                    0              0  ...                2   \n",
      "47386                    0              0  ...                2   \n",
      "37042                    0              0  ...                2   \n",
      "\n",
      "       qty_mx_servers  ttl_hostname  tls_ssl_certificate  qty_redirects  \\\n",
      "8833                2           543                    1              1   \n",
      "54083               1         14377                    1              0   \n",
      "54281               1            96                    1              1   \n",
      "47386               1         14384                    1              0   \n",
      "37042               1           590                    1              1   \n",
      "\n",
      "       url_google_index  domain_google_index  url_shortened  Actual  \\\n",
      "8833                  0                    0              0       0   \n",
      "54083                 0                    0              0       1   \n",
      "54281                 0                    0              0       0   \n",
      "47386                 0                    0              0       0   \n",
      "37042                 0                    0              0       0   \n",
      "\n",
      "       Predicción  \n",
      "8833            0  \n",
      "54083           1  \n",
      "54281           0  \n",
      "47386           0  \n",
      "37042           0  \n",
      "\n",
      "[5 rows x 113 columns]\n",
      "Score sobre el conjunto de test: 0.843\n",
      "Score sobre el conjunto de test: 0.843\n",
      "[0.84 0.83 0.84 0.83 0.83]\n",
      "Desempeño promedio del kNN:\n",
      "0.8333190778083635\n",
      "Exactitud (accuracy) en prueba (testing) del kNN: 0.848921476681729\n",
      "[0.84 0.83 0.84 0.83 0.83]\n",
      "Desempeño promedio del kNN:\n",
      "0.8333190778083635\n",
      "Exactitud (accuracy) en prueba (testing) del kNN: 0.848921476681729\n"
     ]
    },
    {
     "data": {
      "text/html": [
       "<pre style=\"white-space:pre;overflow-x:auto;line-height:normal;font-family:Menlo,'DejaVu Sans Mono',consolas,'Courier New',monospace\">10:55:34.095 | <span style=\"color: #008080; text-decoration-color: #008080\">INFO</span>    | Task run 'knn-52c' - Task 'knn' completed in 10.95 seconds\n",
       "</pre>\n"
      ],
      "text/plain": [
       "10:55:34.095 | \u001b[36mINFO\u001b[0m    | Task run 'knn-52c' - Task 'knn' completed in 10.95 seconds\n"
      ]
     },
     "metadata": {},
     "output_type": "display_data"
    },
    {
     "data": {
      "text/html": [
       "<pre style=\"white-space:pre;overflow-x:auto;line-height:normal;font-family:Menlo,'DejaVu Sans Mono',consolas,'Courier New',monospace\">10:55:34.106 | <span style=\"color: #008080; text-decoration-color: #008080\">INFO</span>    | Task run 'knn-52c' - Finished in state <span style=\"color: #008000; text-decoration-color: #008000\">Completed</span>()\n",
       "</pre>\n"
      ],
      "text/plain": [
       "10:55:34.106 | \u001b[36mINFO\u001b[0m    | Task run 'knn-52c' - Finished in state \u001b[32mCompleted\u001b[0m()\n"
      ]
     },
     "metadata": {},
     "output_type": "display_data"
    },
    {
     "name": "stdout",
     "output_type": "stream",
     "text": [
      "Visualización de desempeño con Matriz de Confusión:\n",
      "Confusion Matrix\n",
      "[[4583 1017]\n",
      " [ 829 5300]]\n",
      "Confusion Matrix\n",
      "[[4583 1017]\n",
      " [ 829 5300]]\n"
     ]
    },
    {
     "data": {
      "image/png": "[encoded data removed]",
      "text/plain": [
       "<Figure size 640x480 with 2 Axes>"
      ]
     },
     "metadata": {},
     "output_type": "display_data"
    },
    {
     "data": {
      "text/html": [
       "<pre style=\"white-space:pre;overflow-x:auto;line-height:normal;font-family:Menlo,'DejaVu Sans Mono',consolas,'Courier New',monospace\">10:55:35.194 | <span style=\"color: #008080; text-decoration-color: #008080\">INFO</span>    | Task run 'confusion_matrix-b29' - Task 'confusion_matrix' completed in 0.94 seconds\n",
       "</pre>\n"
      ],
      "text/plain": [
       "10:55:35.194 | \u001b[36mINFO\u001b[0m    | Task run 'confusion_matrix-b29' - Task 'confusion_matrix' completed in 0.94 seconds\n"
      ]
     },
     "metadata": {},
     "output_type": "display_data"
    },
    {
     "data": {
      "text/html": [
       "<pre style=\"white-space:pre;overflow-x:auto;line-height:normal;font-family:Menlo,'DejaVu Sans Mono',consolas,'Courier New',monospace\">10:55:35.197 | <span style=\"color: #008080; text-decoration-color: #008080\">INFO</span>    | Task run 'confusion_matrix-b29' - Finished in state <span style=\"color: #008000; text-decoration-color: #008000\">Completed</span>()\n",
       "</pre>\n"
      ],
      "text/plain": [
       "10:55:35.197 | \u001b[36mINFO\u001b[0m    | Task run 'confusion_matrix-b29' - Finished in state \u001b[32mCompleted\u001b[0m()\n"
      ]
     },
     "metadata": {},
     "output_type": "display_data"
    },
    {
     "name": "stdout",
     "output_type": "stream",
     "text": [
      "Clasification Report\n",
      "              precision    recall  f1-score   support\n",
      "\n",
      "           0       0.85      0.82      0.83      5600\n",
      "           1       0.84      0.86      0.85      6129\n",
      "\n",
      "    accuracy                           0.84     11729\n",
      "   macro avg       0.84      0.84      0.84     11729\n",
      "weighted avg       0.84      0.84      0.84     11729\n",
      "\n"
     ]
    },
    {
     "data": {
      "text/html": [
       "<pre style=\"white-space:pre;overflow-x:auto;line-height:normal;font-family:Menlo,'DejaVu Sans Mono',consolas,'Courier New',monospace\">10:55:36.210 | <span style=\"color: #008080; text-decoration-color: #008080\">INFO</span>    | Task run 'show_classificationreport-e54' - Task 'show_classificationreport' completed in 0.86 seconds\n",
       "</pre>\n"
      ],
      "text/plain": [
       "10:55:36.210 | \u001b[36mINFO\u001b[0m    | Task run 'show_classificationreport-e54' - Task 'show_classificationreport' completed in 0.86 seconds\n"
      ]
     },
     "metadata": {},
     "output_type": "display_data"
    },
    {
     "data": {
      "text/html": [
       "<pre style=\"white-space:pre;overflow-x:auto;line-height:normal;font-family:Menlo,'DejaVu Sans Mono',consolas,'Courier New',monospace\">10:55:36.213 | <span style=\"color: #008080; text-decoration-color: #008080\">INFO</span>    | Task run 'show_classificationreport-e54' - Finished in state <span style=\"color: #008000; text-decoration-color: #008000\">Completed</span>()\n",
       "</pre>\n"
      ],
      "text/plain": [
       "10:55:36.213 | \u001b[36mINFO\u001b[0m    | Task run 'show_classificationreport-e54' - Finished in state \u001b[32mCompleted\u001b[0m()\n"
      ]
     },
     "metadata": {},
     "output_type": "display_data"
    },
    {
     "name": "stdout",
     "output_type": "stream",
     "text": [
      "Comparación de hiperparámetros:\n"
     ]
    }
   ],
   "source": [
    "@flow\n",
    "def small_dataset_flow():\n",
    "    df = load_data()\n",
    "    distribution_plotter(df)\n",
    "    descriptor(df)\n",
    "    correlation(df)\n",
    "    X_train, X_test, y_train, y_test = preprocessing(df)\n",
    "\n",
    "    class_names = [0,1]\n",
    "\n",
    "    dtree_model = decision_tree(X_train, X_test, y_train, y_test)\n",
    "    confusion_matrix(class_names, dtree_model, X_test, y_test)\n",
    "    show_classificationreport(dtree_model, X_test, y_test, class_names)\n",
    "\n",
    "    rf_model =random_forest(X_train, X_test, y_train, y_test)\n",
    "    confusion_matrix(class_names, rf_model, X_test, y_test)\n",
    "    show_classificationreport(rf_model, X_test, y_test, class_names)\n",
    "\n",
    "    knn_model = knn(X_train, X_test, y_train, y_test)\n",
    "    confusion_matrix(class_names, knn_model, X_test, y_test)\n",
    "    show_classificationreport(knn_model, X_test, y_test, class_names)\n",
    "\n",
    "    knn_scaled = knn_scaler(X_train, X_test, y_train, y_test)\n",
    "    confusion_matrix(class_names, knn_scaled, X_test, y_test)\n",
    "    show_classificationreport(knn_scaled, X_test, y_test, class_names)\n",
    "\n",
    "    svm_class_model = svm(X_train, X_test, y_train, y_test)\n",
    "    confusion_matrix(class_names, svm_class_model, X_test, y_test)\n",
    "    show_classificationreport(svm_class_model, X_test, y_test, class_names)\n",
    "\n",
    "    svm_class_scaled = svm_scaler(X_train, X_test, y_train, y_test)\n",
    "    confusion_matrix(class_names, svm_class_scaled, X_test, y_test)\n",
    "    show_classificationreport(svm_class_scaled, X_test, y_test, class_names)\n",
    "\n",
    "small_dataset_flow()"
   ]
  }
 ],
 "metadata": {
  "kernelspec": {
   "display_name": "ml1",
   "language": "python",
   "name": "python3"
  },
  "language_info": {
   "codemirror_mode": {
    "name": "ipython",
    "version": 3
   },
   "file_extension": ".py",
   "mimetype": "text/x-python",
   "name": "python",
   "nbconvert_exporter": "python",
   "pygments_lexer": "ipython3",
   "version": "3.11.13"
  }
 },
 "nbformat": 4,
 "nbformat_minor": 5
}
